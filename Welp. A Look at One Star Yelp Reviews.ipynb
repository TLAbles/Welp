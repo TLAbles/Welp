{
 "cells": [
  {
   "cell_type": "markdown",
   "id": "932853ad",
   "metadata": {},
   "source": [
    "A brief data analysis of some of the worst reviews Yelp has to offer "
   ]
  },
  {
   "cell_type": "code",
   "execution_count": null,
   "id": "6cda6751",
   "metadata": {
    "scrolled": true
   },
   "outputs": [],
   "source": [
    "#packages to install \n",
    "%conda install -c conda-forge wordcloud\n",
    "%pip install folium\n",
    "%pip install langdetect"
   ]
  },
  {
   "cell_type": "code",
   "execution_count": null,
   "id": "0046bdb9",
   "metadata": {},
   "outputs": [],
   "source": [
    "#Packages to import and why\n",
    "import nltk                                 #language processing\n",
    "import folium                               #maps\n",
    "import logging                              #best practices make best perfects\n",
    "import numpy as np                          #math stuff\n",
    "import pandas as pd                         #data processing\n",
    "import seaborn as sns                       #also data visualization \n",
    "import matplotlib.pyplot as plt             #data visualization\n",
    "from wordcloud import WordCloud, STOPWORDS  #wordclouds and useless words\n",
    "from langdetect import detect_langs         #get language of reviews bc German is too negative \n",
    "from nltk.sentiment.vader import SentimentIntensityAnalyzer  #sentiment analysis of text\n",
    "\n",
    "nltk.download('vader_lexicon')\n",
    "%matplotlib inline "
   ]
  },
  {
   "cell_type": "code",
   "execution_count": null,
   "id": "788a3a23",
   "metadata": {},
   "outputs": [],
   "source": [
    "#logging stuff\n",
    "Log_format = \"%(levelname)s %(asctime)s - %(message)s\"\n",
    "\n",
    "logging.basicConfig(\n",
    "    filename = \"logfile.log\",\n",
    "    filemode = \"w\", \n",
    "    format = Log_format,\n",
    "    level = logging.WARNING)\n",
    "\n",
    "logger = logging.getLogger()\n",
    "\n",
    "#Test that logger \n",
    "logger.error(\"Let's GO\")"
   ]
  },
  {
   "cell_type": "code",
   "execution_count": null,
   "id": "fc764c7b",
   "metadata": {},
   "outputs": [],
   "source": [
    "# Read business file \n",
    "business = pd.read_csv('https://docs.google.com/spreadsheets/d/12rEscRSc6wu4tcK_n__fIq_AjcQ1IRqjHZ6FhO8REsA/gviz/tq?tqx=out:csv',  index_col=False)\n"
   ]
  },
  {
   "cell_type": "code",
   "execution_count": null,
   "id": "1cce0e58",
   "metadata": {
    "scrolled": true
   },
   "outputs": [],
   "source": [
    "business.head()"
   ]
  },
  {
   "cell_type": "code",
   "execution_count": null,
   "id": "0f3fc673",
   "metadata": {},
   "outputs": [],
   "source": [
    "#specific columns from business  \n",
    "business_cols = business[['business_id','name', 'address', 'state', 'postal_code', 'latitude', 'longitude', 'is_open', 'categories']]"
   ]
  },
  {
   "cell_type": "code",
   "execution_count": null,
   "id": "cc0f7661",
   "metadata": {},
   "outputs": [],
   "source": [
    "#only restaurants \n",
    "bus_rests = business_cols[business_cols['categories'].str.contains('Restaurant')] "
   ]
  },
  {
   "cell_type": "code",
   "execution_count": null,
   "id": "bb71ecf2",
   "metadata": {
    "scrolled": false
   },
   "outputs": [],
   "source": [
    "len(bus_rests)"
   ]
  },
  {
   "cell_type": "code",
   "execution_count": null,
   "id": "44dbc9de",
   "metadata": {},
   "outputs": [],
   "source": [
    "#only keep open restarants \n",
    "open_rest = bus_rests[bus_rests['is_open']== 1]"
   ]
  },
  {
   "cell_type": "code",
   "execution_count": null,
   "id": "c73ff8f6",
   "metadata": {
    "scrolled": true
   },
   "outputs": [],
   "source": [
    "len(open_rest)"
   ]
  },
  {
   "cell_type": "code",
   "execution_count": null,
   "id": "ac35488f",
   "metadata": {
    "scrolled": true
   },
   "outputs": [],
   "source": [
    "#drop unneeded columns and reset index \n",
    "open_rest = open_rest.drop(columns=['is_open', 'categories']).reset_index(drop=True)"
   ]
  },
  {
   "cell_type": "code",
   "execution_count": null,
   "id": "4597d3af",
   "metadata": {
    "scrolled": false
   },
   "outputs": [],
   "source": [
    "open_rest.head()"
   ]
  },
  {
   "cell_type": "markdown",
   "id": "ce736614",
   "metadata": {},
   "source": [
    "Review Stuff"
   ]
  },
  {
   "cell_type": "code",
   "execution_count": null,
   "id": "d3d97157",
   "metadata": {},
   "outputs": [],
   "source": [
    "# Read review file \n",
    "review = pd.read_csv('/Users/tifanyables/Desktop/Welp/yelp_dataset/yelp_review.csv')"
   ]
  },
  {
   "cell_type": "code",
   "execution_count": null,
   "id": "8e75573e",
   "metadata": {},
   "outputs": [],
   "source": [
    "len(review)"
   ]
  },
  {
   "cell_type": "code",
   "execution_count": null,
   "id": "b41c9c48",
   "metadata": {
    "scrolled": true
   },
   "outputs": [],
   "source": [
    "#drop unneeded columns and reset index \n",
    "review = review.drop(columns=['review_id', 'user_id', 'useful', 'funny', 'cool', 'date'])"
   ]
  },
  {
   "cell_type": "code",
   "execution_count": null,
   "id": "d9df74d0",
   "metadata": {},
   "outputs": [],
   "source": [
    "rest_ids = set(open_rest['business_id'])"
   ]
  },
  {
   "cell_type": "code",
   "execution_count": null,
   "id": "9628c57e",
   "metadata": {},
   "outputs": [],
   "source": [
    "# filter out any place that isn't in rest ids\n",
    "rest_reviews = review[review['business_id'].isin(rest_ids)]"
   ]
  },
  {
   "cell_type": "code",
   "execution_count": null,
   "id": "b662b6c2",
   "metadata": {
    "scrolled": true
   },
   "outputs": [],
   "source": [
    "rest_reviews.head()"
   ]
  },
  {
   "cell_type": "code",
   "execution_count": null,
   "id": "4fe658f1",
   "metadata": {
    "scrolled": true
   },
   "outputs": [],
   "source": [
    "rest_reviews['business_id'].nunique()"
   ]
  },
  {
   "cell_type": "code",
   "execution_count": null,
   "id": "9cafbd23",
   "metadata": {},
   "outputs": [],
   "source": [
    "len(rest_reviews)"
   ]
  },
  {
   "cell_type": "code",
   "execution_count": null,
   "id": "99f34c77",
   "metadata": {
    "scrolled": true
   },
   "outputs": [],
   "source": [
    "#count of star ratings \n",
    "star_count = rest_reviews.groupby(['stars']).size().reset_index(name=\"count\")\n",
    "star_count"
   ]
  },
  {
   "cell_type": "code",
   "execution_count": null,
   "id": "c57ccdb3",
   "metadata": {},
   "outputs": [],
   "source": [
    "# histogram for star ratings of reviews\n",
    "\n",
    "sns.countplot(data=rest_reviews, x= 'stars', palette=\"pastel\")\n",
    "plt.title('Star Ratings of Restaurant Reviews',fontsize=18, pad=25.0) \n",
    "plt.xlabel(\"Star Rating\", fontsize=15)\n",
    "plt.ylabel(\"Count\", fontsize=15)\n",
    "plt.ticklabel_format(style='plain', axis='y',useOffset=False)\n",
    "plt.show()"
   ]
  },
  {
   "cell_type": "code",
   "execution_count": null,
   "id": "8f7563e0",
   "metadata": {},
   "outputs": [],
   "source": [
    "rest_reviews.set_index('business_id', inplace=True)\n",
    "open_rest.set_index('business_id', inplace=True)"
   ]
  },
  {
   "cell_type": "code",
   "execution_count": null,
   "id": "c56a5647",
   "metadata": {},
   "outputs": [],
   "source": [
    "# filter out only 1 star reviews\n",
    "one_stars = rest_reviews.loc[rest_reviews['stars'] == 1] "
   ]
  },
  {
   "cell_type": "markdown",
   "id": "1f065e3a",
   "metadata": {},
   "source": [
    "One star reviews for open restaurants with business info attached "
   ]
  },
  {
   "cell_type": "code",
   "execution_count": null,
   "id": "3e96d067",
   "metadata": {},
   "outputs": [],
   "source": [
    "#combine csvs into mega csv \n",
    "one_star_reviews= open_rest.merge(one_stars, on= [\"business_id\"])"
   ]
  },
  {
   "cell_type": "code",
   "execution_count": null,
   "id": "f376994b",
   "metadata": {},
   "outputs": [],
   "source": [
    "one_star_reviews.head()"
   ]
  },
  {
   "cell_type": "markdown",
   "id": "0f972634",
   "metadata": {},
   "source": [
    "Sentiment Analysis "
   ]
  },
  {
   "cell_type": "code",
   "execution_count": null,
   "id": "ca5c1bd1",
   "metadata": {
    "scrolled": false
   },
   "outputs": [],
   "source": [
    "#sentiment analysis with a little progress bar, as a treat \n",
    "analyzer = SentimentIntensityAnalyzer()\n",
    "\n",
    "hundredth = len(one_star_reviews)//100\n",
    "\n",
    "compound_scores = []\n",
    "\n",
    "for i, Review in enumerate(one_star_reviews['text']):\n",
    "    compound_scores.append(analyzer.polarity_scores(Review)['compound'])\n",
    "    print((i//hundredth)*'|' + (99-i//hundredth)*' ' + '|', end='\\r')\n",
    "\n",
    "one_star_reviews['compound'] = compound_scores"
   ]
  },
  {
   "cell_type": "code",
   "execution_count": null,
   "id": "dd93d548",
   "metadata": {},
   "outputs": [],
   "source": [
    "#add column to df for compound scores\n",
    "one_star_reviews = one_star_reviews.sort_values(by='compound')"
   ]
  },
  {
   "cell_type": "code",
   "execution_count": null,
   "id": "398f3380",
   "metadata": {},
   "outputs": [],
   "source": [
    "compound_mean = one_star_reviews['compound'].mean()\n",
    "print(compound_mean)"
   ]
  },
  {
   "cell_type": "markdown",
   "id": "51d7186f",
   "metadata": {},
   "source": [
    "Language detection "
   ]
  },
  {
   "cell_type": "code",
   "execution_count": null,
   "id": "aac6c5c9",
   "metadata": {},
   "outputs": [],
   "source": [
    "worst_reviews = one_star_reviews.head(700)"
   ]
  },
  {
   "cell_type": "code",
   "execution_count": null,
   "id": "7575fc7f",
   "metadata": {},
   "outputs": [],
   "source": [
    "language = [detect_langs(i) for i in worst_reviews.text]\n",
    "languages = [str(i[0]).split(':')[0] for i in language]\n",
    "worst_reviews['language'] = languages"
   ]
  },
  {
   "cell_type": "code",
   "execution_count": null,
   "id": "4bf50316",
   "metadata": {},
   "outputs": [],
   "source": [
    "# only keep English reviews\n",
    "worst_reviews = worst_reviews[worst_reviews['language']== 'en']"
   ]
  },
  {
   "cell_type": "code",
   "execution_count": null,
   "id": "bc4c79f9",
   "metadata": {},
   "outputs": [],
   "source": [
    "len(worst_reviews)"
   ]
  },
  {
   "cell_type": "markdown",
   "id": "6ecd2131",
   "metadata": {},
   "source": [
    "Worst 500 reviews by compound score"
   ]
  },
  {
   "cell_type": "code",
   "execution_count": null,
   "id": "6ac0edcd",
   "metadata": {},
   "outputs": [],
   "source": [
    "worst_reviews = worst_reviews.head(500)"
   ]
  },
  {
   "cell_type": "code",
   "execution_count": null,
   "id": "46a792f5",
   "metadata": {},
   "outputs": [],
   "source": [
    "worst_reviews.head()"
   ]
  },
  {
   "cell_type": "code",
   "execution_count": null,
   "id": "94bc38d2",
   "metadata": {},
   "outputs": [],
   "source": [
    "worst_reviews_mean = worst_reviews['compound'].mean()\n",
    "print(worst_reviews_mean)"
   ]
  },
  {
   "cell_type": "markdown",
   "id": "0a77c460",
   "metadata": {},
   "source": [
    "Map making"
   ]
  },
  {
   "cell_type": "code",
   "execution_count": null,
   "id": "15916cbb",
   "metadata": {},
   "outputs": [],
   "source": [
    "#make a basemap \n",
    "USA = [37.090240, -95.712891]\n",
    "Map = folium.Map(USA, zoom_start=4, tiles= \"Stamen Toner\")"
   ]
  },
  {
   "cell_type": "code",
   "execution_count": null,
   "id": "829f6058",
   "metadata": {},
   "outputs": [],
   "source": [
    "#add points to that map\n",
    "for i in range(0, len(worst_reviews)):\n",
    "    name = worst_reviews.iloc[i][\"name\"][1:-1]\n",
    "    msg = f'''\n",
    "    <center><h2>{name}</h2></center>\n",
    "    <p>{worst_reviews.iloc[i][\"text\"]}</p>\n",
    "    '''\n",
    "    iframe = folium.IFrame(html=msg, width=400, height=300)\n",
    "    folium.Marker(\n",
    "        [worst_reviews.iloc[i] [\"latitude\"], worst_reviews.iloc[i][\"longitude\"]],\n",
    "        tooltip=name,\n",
    "        popup=folium.Popup(iframe, max_width=400)\n",
    "    ).add_to(Map)\n",
    "\n",
    "Map"
   ]
  },
  {
   "cell_type": "code",
   "execution_count": null,
   "id": "427fd0ab",
   "metadata": {},
   "outputs": [],
   "source": [
    "len(worst_reviews)"
   ]
  },
  {
   "cell_type": "code",
   "execution_count": null,
   "id": "6967ef1b",
   "metadata": {},
   "outputs": [],
   "source": [
    "worst_mean_english = worst_reviews['compound'].mean()\n",
    "print(worst_mean_english)"
   ]
  },
  {
   "cell_type": "markdown",
   "id": "4989676b",
   "metadata": {},
   "source": [
    "Word clouding "
   ]
  },
  {
   "cell_type": "code",
   "execution_count": null,
   "id": "c5184fd6",
   "metadata": {},
   "outputs": [],
   "source": [
    "# join all reviews and get a count of words to start making a wordcloud also lower case them \n",
    "review_words= \" \".join(worst_reviews['text']).lower()\n",
    "\n",
    "# how many words?  \n",
    "print (\"There are {} words in the combination of the 500 worst reviews.\".format(len(review_words.split(' '))))\n",
    "# how many stopwords? \n",
    "print (\"There are {} stopwords.\".format(len(STOPWORDS))) #how many uselessly common words?"
   ]
  },
  {
   "cell_type": "code",
   "execution_count": null,
   "id": "682280c6",
   "metadata": {},
   "outputs": [],
   "source": [
    "STOPWORDS.update([\"will\", \"let\", \"well\", \"u\",\"us\", \"another\", \"go\", \"got\", \"came\", \"come\", \"put\", \"going\" ]) #stopwords updated \n",
    "print (\"Now there are {} stopwords.\".format(len(STOPWORDS))) "
   ]
  },
  {
   "cell_type": "code",
   "execution_count": null,
   "id": "5bedc347",
   "metadata": {},
   "outputs": [],
   "source": [
    "# make wordcloud of 1 star reviews with stop words removed  \n",
    "another_word_cloud = WordCloud(stopwords=STOPWORDS, width =2500, height= 2000, max_words=200, random_state=42).generate(review_words)\n",
    "\n",
    "# show wordcloud \n",
    "plt.figure(figsize= (12, 10), dpi=80)\n",
    "plt.imshow(another_word_cloud, interpolation='bilinear')\n",
    "plt.axis(\"off\")\n",
    "plt.show()"
   ]
  },
  {
   "cell_type": "code",
   "execution_count": null,
   "id": "8ae66b1b",
   "metadata": {},
   "outputs": [],
   "source": []
  }
 ],
 "metadata": {
  "interpreter": {
   "hash": "90e0d77301c8b331503991975bcf395c879411c77dc51cb7d885ffa98c900dff"
  },
  "kernelspec": {
   "display_name": "Python 3.9.7 64-bit ('base': conda)",
   "language": "python",
   "name": "python3"
  },
  "language_info": {
   "codemirror_mode": {
    "name": "ipython",
    "version": 3
   },
   "file_extension": ".py",
   "mimetype": "text/x-python",
   "name": "python",
   "nbconvert_exporter": "python",
   "pygments_lexer": "ipython3",
   "version": "3.9.7"
  }
 },
 "nbformat": 4,
 "nbformat_minor": 5
}
